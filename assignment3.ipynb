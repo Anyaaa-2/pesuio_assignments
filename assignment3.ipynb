{
  "nbformat": 4,
  "nbformat_minor": 0,
  "metadata": {
    "colab": {
      "provenance": [],
      "authorship_tag": "ABX9TyOczr77ZCNiOfIZSWteHxqL",
      "include_colab_link": true
    },
    "kernelspec": {
      "name": "python3",
      "display_name": "Python 3"
    },
    "language_info": {
      "name": "python"
    }
  },
  "cells": [
    {
      "cell_type": "markdown",
      "metadata": {
        "id": "view-in-github",
        "colab_type": "text"
      },
      "source": [
        "<a href=\"https://colab.research.google.com/github/Anyaaa-2/pesuio_assignments/blob/main/assignment3.ipynb\" target=\"_parent\"><img src=\"https://colab.research.google.com/assets/colab-badge.svg\" alt=\"Open In Colab\"/></a>"
      ]
    },
    {
      "cell_type": "code",
      "execution_count": null,
      "metadata": {
        "id": "gbbCMavqmq3E"
      },
      "outputs": [],
      "source": [
        "import numpy as np\n",
        "import pandas as pd\n",
        "import tensorflow as tf"
      ]
    },
    {
      "cell_type": "code",
      "source": [
        "tf.__version__"
      ],
      "metadata": {
        "colab": {
          "base_uri": "https://localhost:8080/",
          "height": 35
        },
        "id": "JYKZ3l5Sn9w1",
        "outputId": "4da35aa7-6445-40dd-d6e9-3baa4e31926a"
      },
      "execution_count": null,
      "outputs": [
        {
          "output_type": "execute_result",
          "data": {
            "text/plain": [
              "'2.13.0'"
            ],
            "application/vnd.google.colaboratory.intrinsic+json": {
              "type": "string"
            }
          },
          "metadata": {},
          "execution_count": 3
        }
      ]
    },
    {
      "cell_type": "code",
      "source": [
        "#importing\n",
        "dataset = pd.read_csv('Social_Network_Ads.csv')\n",
        "X = dataset.iloc[:,].values\n",
        "y = dataset.iloc[:, -1].values\n"
      ],
      "metadata": {
        "id": "jwXroX-kn_1a"
      },
      "execution_count": null,
      "outputs": []
    },
    {
      "cell_type": "code",
      "source": [
        "#encoding\n",
        "from sklearn.preprocessing import LabelEncoder\n",
        "le = LabelEncoder()\n",
        "X[:,1] = le.fit_transform(X[:,1])"
      ],
      "metadata": {
        "id": "bC77yeOgoDQp"
      },
      "execution_count": null,
      "outputs": []
    },
    {
      "cell_type": "code",
      "source": [
        "from sklearn.compose import ColumnTransformer\n",
        "from sklearn.preprocessing import OneHotEncoder\n",
        "ct = ColumnTransformer(transformers=[('encoder', OneHotEncoder(), [1])], remainder='passthrough')\n",
        "X = np.array(ct.fit_transform(X))"
      ],
      "metadata": {
        "id": "Djg4LScjpGOm"
      },
      "execution_count": null,
      "outputs": []
    },
    {
      "cell_type": "code",
      "source": [
        "print(X)"
      ],
      "metadata": {
        "colab": {
          "base_uri": "https://localhost:8080/"
        },
        "id": "mg75DbsQIniH",
        "outputId": "a10ba6f4-253e-467d-8a94-3e31a467cbe9"
      },
      "execution_count": null,
      "outputs": [
        {
          "output_type": "stream",
          "name": "stdout",
          "text": [
            "  (0, 4)\t1.0\n",
            "  (0, 117)\t19.0\n",
            "  (1, 5)\t1.0\n",
            "  (1, 117)\t35.0\n",
            "  (2, 26)\t1.0\n",
            "  (2, 117)\t26.0\n",
            "  (3, 39)\t1.0\n",
            "  (3, 117)\t27.0\n",
            "  (4, 57)\t1.0\n",
            "  (4, 117)\t19.0\n",
            "  (5, 40)\t1.0\n",
            "  (5, 117)\t27.0\n",
            "  (6, 65)\t1.0\n",
            "  (6, 117)\t27.0\n",
            "  (7, 116)\t1.0\n",
            "  (7, 117)\t32.0\n",
            "  (7, 118)\t1.0\n",
            "  (8, 17)\t1.0\n",
            "  (8, 117)\t25.0\n",
            "  (9, 47)\t1.0\n",
            "  (9, 117)\t35.0\n",
            "  (10, 61)\t1.0\n",
            "  (10, 117)\t26.0\n",
            "  (11, 35)\t1.0\n",
            "  (11, 117)\t26.0\n",
            "  :\t:\n",
            "  (391, 8)\t1.0\n",
            "  (391, 117)\t47.0\n",
            "  (391, 118)\t1.0\n",
            "  (392, 28)\t1.0\n",
            "  (392, 117)\t45.0\n",
            "  (392, 118)\t1.0\n",
            "  (393, 25)\t1.0\n",
            "  (393, 117)\t60.0\n",
            "  (393, 118)\t1.0\n",
            "  (394, 41)\t1.0\n",
            "  (394, 117)\t39.0\n",
            "  (395, 24)\t1.0\n",
            "  (395, 117)\t46.0\n",
            "  (395, 118)\t1.0\n",
            "  (396, 8)\t1.0\n",
            "  (396, 117)\t51.0\n",
            "  (396, 118)\t1.0\n",
            "  (397, 5)\t1.0\n",
            "  (397, 117)\t50.0\n",
            "  (397, 118)\t1.0\n",
            "  (398, 17)\t1.0\n",
            "  (398, 117)\t36.0\n",
            "  (399, 20)\t1.0\n",
            "  (399, 117)\t49.0\n",
            "  (399, 118)\t1.0\n"
          ]
        }
      ]
    },
    {
      "cell_type": "code",
      "source": [
        "from sklearn.model_selection import train_test_split\n",
        "X_train, X_test, y_train, y_test = train_test_split(X, y, test_size = 0.2, random_state = 0)"
      ],
      "metadata": {
        "id": "FtEmB8q0Rgbz"
      },
      "execution_count": null,
      "outputs": []
    },
    {
      "cell_type": "code",
      "source": [
        "from sklearn.preprocessing import StandardScaler\n",
        "sc = StandardScaler()\n",
        "X_train = sc.fit_transform(X_train)\n",
        "X_test = sc.transform(X_test)"
      ],
      "metadata": {
        "id": "19Neo2A1H8e5"
      },
      "execution_count": null,
      "outputs": []
    },
    {
      "cell_type": "code",
      "source": [
        "#initialising ANN\n",
        "ann = tf.keras.models.Sequential()"
      ],
      "metadata": {
        "id": "MYhHUKiTI1n8"
      },
      "execution_count": null,
      "outputs": []
    },
    {
      "cell_type": "code",
      "source": [
        "#first layer\n",
        "ann.add(tf.keras.layers.Dense(units=6, activation='relu'))\n",
        "#second layer\n",
        "ann.add(tf.keras.layers.Dense(units=6, activation='relu'))\n",
        "#output layer\n",
        "ann.add(tf.keras.layers.Dense(units=1, activation='sigmoid'))"
      ],
      "metadata": {
        "id": "PjTEPwjAI6B8"
      },
      "execution_count": null,
      "outputs": []
    },
    {
      "cell_type": "code",
      "source": [
        "#compiling ann\n",
        "ann.compile(optimizer = 'adam', loss = 'binary_crossentropy', metrics = ['accuracy'])"
      ],
      "metadata": {
        "id": "Lz1HGhDzJIR6"
      },
      "execution_count": null,
      "outputs": []
    },
    {
      "cell_type": "code",
      "source": [
        "#training ann\n",
        "ann.fit(X_train, y_train, batch_size = 32, epochs = 100)"
      ],
      "metadata": {
        "id": "VHedCaXRJPdS"
      },
      "execution_count": null,
      "outputs": []
    }
  ]
}